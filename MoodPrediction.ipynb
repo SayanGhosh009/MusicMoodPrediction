{
 "cells": [
  {
   "cell_type": "markdown",
   "metadata": {},
   "source": [
    "## SMAI Project : Music Mood Prediction\n",
    "#### Manojit Chakraborty, Sayan Ghosh, Shubham Das, Siddesh Sawant\n",
    "\n"
   ]
  },
  {
   "cell_type": "code",
   "execution_count": 1,
   "metadata": {},
   "outputs": [],
   "source": [
    "%matplotlib inline\n",
    "import numpy as np\n",
    "import pandas as pd\n",
    "import matplotlib.pyplot as plt\n",
    "import seaborn as sns\n",
    "import warnings\n",
    "import requests\n",
    "import json\n",
    "warnings.filterwarnings(\"ignore\")"
   ]
  },
  {
   "cell_type": "markdown",
   "metadata": {},
   "source": [
    "### Part 1: Dataset Preparation :\n"
   ]
  },
  {
   "cell_type": "markdown",
   "metadata": {},
   "source": [
    "#### We will use Million Song Data Subset, containing 10000 songs' data as the Dataset for our Mood Prediction Classifier"
   ]
  },
  {
   "cell_type": "code",
   "execution_count": 2,
   "metadata": {},
   "outputs": [
    {
     "name": "stdout",
     "output_type": "stream",
     "text": [
      "Requirement already satisfied: PyLyrics in /usr/local/lib/python3.7/site-packages (1.1.0)\n",
      "Requirement already satisfied: requests in /usr/local/lib/python3.7/site-packages (from PyLyrics) (2.20.0)\n",
      "Requirement already satisfied: beautifulsoup4 in /usr/local/lib/python3.7/site-packages (from PyLyrics) (4.6.3)\n",
      "Requirement already satisfied: urllib3<1.25,>=1.21.1 in /usr/local/lib/python3.7/site-packages (from requests->PyLyrics) (1.24)\n",
      "Requirement already satisfied: certifi>=2017.4.17 in /usr/local/lib/python3.7/site-packages (from requests->PyLyrics) (2018.10.15)\n",
      "Requirement already satisfied: chardet<3.1.0,>=3.0.2 in /usr/local/lib/python3.7/site-packages (from requests->PyLyrics) (3.0.4)\n",
      "Requirement already satisfied: idna<2.8,>=2.5 in /usr/local/lib/python3.7/site-packages (from requests->PyLyrics) (2.7)\n"
     ]
    }
   ],
   "source": [
    "!pip3 install PyLyrics"
   ]
  },
  {
   "cell_type": "code",
   "execution_count": 2,
   "metadata": {},
   "outputs": [
    {
     "ename": "UnboundLocalError",
     "evalue": "local variable 'currentAlbum' referenced before assignment",
     "output_type": "error",
     "traceback": [
      "\u001b[0;31m---------------------------------------------------------------------------\u001b[0m",
      "\u001b[0;31mUnboundLocalError\u001b[0m                         Traceback (most recent call last)",
      "\u001b[0;32m<ipython-input-2-47d98b66bb34>\u001b[0m in \u001b[0;36m<module>\u001b[0;34m\u001b[0m\n\u001b[1;32m      4\u001b[0m \u001b[0mmyalbum\u001b[0m \u001b[0;34m=\u001b[0m \u001b[0malbums\u001b[0m\u001b[0;34m[\u001b[0m\u001b[0;36m4\u001b[0m\u001b[0;34m]\u001b[0m \u001b[0;31m#Select your album based on Index\u001b[0m\u001b[0;34m\u001b[0m\u001b[0;34m\u001b[0m\u001b[0m\n\u001b[1;32m      5\u001b[0m \u001b[0;34m\u001b[0m\u001b[0m\n\u001b[0;32m----> 6\u001b[0;31m \u001b[0mtracks\u001b[0m \u001b[0;34m=\u001b[0m \u001b[0mmyalbum\u001b[0m\u001b[0;34m.\u001b[0m\u001b[0mtracks\u001b[0m\u001b[0;34m(\u001b[0m\u001b[0;34m)\u001b[0m \u001b[0;31m#or PyLyrics.getTracks(myalbum)\u001b[0m\u001b[0;34m\u001b[0m\u001b[0;34m\u001b[0m\u001b[0m\n\u001b[0m\u001b[1;32m      7\u001b[0m \u001b[0;32mfor\u001b[0m \u001b[0mtrack\u001b[0m \u001b[0;32min\u001b[0m \u001b[0mtracks\u001b[0m\u001b[0;34m:\u001b[0m\u001b[0;34m\u001b[0m\u001b[0;34m\u001b[0m\u001b[0m\n\u001b[1;32m      8\u001b[0m     \u001b[0mprint\u001b[0m \u001b[0;34m(\u001b[0m\u001b[0mtrack\u001b[0m\u001b[0;34m)\u001b[0m \u001b[0;31m#Each track is a track object\u001b[0m\u001b[0;34m\u001b[0m\u001b[0;34m\u001b[0m\u001b[0m\n",
      "\u001b[0;32m/usr/local/lib/python3.7/site-packages/PyLyrics/functions.py\u001b[0m in \u001b[0;36mtracks\u001b[0;34m(self)\u001b[0m\n\u001b[1;32m     36\u001b[0m                 \u001b[0;32mreturn\u001b[0m \u001b[0mself\u001b[0m\u001b[0;34m.\u001b[0m\u001b[0msinger\u001b[0m\u001b[0;34m\u001b[0m\u001b[0;34m\u001b[0m\u001b[0m\n\u001b[1;32m     37\u001b[0m         \u001b[0;32mdef\u001b[0m \u001b[0mtracks\u001b[0m\u001b[0;34m(\u001b[0m\u001b[0mself\u001b[0m\u001b[0;34m)\u001b[0m\u001b[0;34m:\u001b[0m\u001b[0;34m\u001b[0m\u001b[0;34m\u001b[0m\u001b[0m\n\u001b[0;32m---> 38\u001b[0;31m                 \u001b[0;32mreturn\u001b[0m \u001b[0mPyLyrics\u001b[0m\u001b[0;34m.\u001b[0m\u001b[0mgetTracks\u001b[0m\u001b[0;34m(\u001b[0m\u001b[0mself\u001b[0m\u001b[0;34m)\u001b[0m\u001b[0;34m\u001b[0m\u001b[0;34m\u001b[0m\u001b[0m\n\u001b[0m\u001b[1;32m     39\u001b[0m \u001b[0;34m\u001b[0m\u001b[0m\n\u001b[1;32m     40\u001b[0m \u001b[0;32mclass\u001b[0m \u001b[0mPyLyrics\u001b[0m\u001b[0;34m:\u001b[0m\u001b[0;34m\u001b[0m\u001b[0;34m\u001b[0m\u001b[0m\n",
      "\u001b[0;32m/usr/local/lib/python3.7/site-packages/PyLyrics/functions.py\u001b[0m in \u001b[0;36mgetTracks\u001b[0;34m(album)\u001b[0m\n\u001b[1;32m     66\u001b[0m                                 \u001b[0mcurrentAlbum\u001b[0m \u001b[0;34m=\u001b[0m \u001b[0mal\u001b[0m\u001b[0;34m\u001b[0m\u001b[0;34m\u001b[0m\u001b[0m\n\u001b[1;32m     67\u001b[0m                                 \u001b[0;32mbreak\u001b[0m\u001b[0;34m\u001b[0m\u001b[0;34m\u001b[0m\u001b[0m\n\u001b[0;32m---> 68\u001b[0;31m                 \u001b[0msongs\u001b[0m \u001b[0;34m=\u001b[0m\u001b[0;34m[\u001b[0m\u001b[0mTrack\u001b[0m\u001b[0;34m(\u001b[0m\u001b[0msong\u001b[0m\u001b[0;34m.\u001b[0m\u001b[0mtext\u001b[0m\u001b[0;34m,\u001b[0m\u001b[0malbum\u001b[0m\u001b[0;34m,\u001b[0m\u001b[0malbum\u001b[0m\u001b[0;34m.\u001b[0m\u001b[0martist\u001b[0m\u001b[0;34m(\u001b[0m\u001b[0;34m)\u001b[0m\u001b[0;34m)\u001b[0m \u001b[0;32mfor\u001b[0m \u001b[0msong\u001b[0m \u001b[0;32min\u001b[0m \u001b[0mcurrentAlbum\u001b[0m\u001b[0;34m.\u001b[0m\u001b[0mfindNext\u001b[0m\u001b[0;34m(\u001b[0m\u001b[0;34m'songs'\u001b[0m\u001b[0;34m)\u001b[0m\u001b[0;34m.\u001b[0m\u001b[0mfindAll\u001b[0m\u001b[0;34m(\u001b[0m\u001b[0;34m'item'\u001b[0m\u001b[0;34m)\u001b[0m\u001b[0;34m]\u001b[0m\u001b[0;34m\u001b[0m\u001b[0;34m\u001b[0m\u001b[0m\n\u001b[0m\u001b[1;32m     69\u001b[0m                 \u001b[0;32mreturn\u001b[0m \u001b[0msongs\u001b[0m\u001b[0;34m\u001b[0m\u001b[0;34m\u001b[0m\u001b[0m\n\u001b[1;32m     70\u001b[0m \u001b[0;34m\u001b[0m\u001b[0m\n",
      "\u001b[0;31mUnboundLocalError\u001b[0m: local variable 'currentAlbum' referenced before assignment"
     ]
    }
   ],
   "source": [
    "from PyLyrics import *\n",
    "\n",
    "albums = PyLyrics.getAlbums(singer='Eminem')\n",
    "myalbum = albums[4] #Select your album based on Index\n",
    "\n",
    "tracks = myalbum.tracks() #or PyLyrics.getTracks(myalbum)\n",
    "for track in tracks:\n",
    "    print (track) #Each track is a track object\n",
    "    print (track.getLyrics()) #Get the lyrics"
   ]
  },
  {
   "cell_type": "code",
   "execution_count": 26,
   "metadata": {},
   "outputs": [
    {
     "name": "stdout",
     "output_type": "stream",
     "text": [
      "Saathiyaa Saathiyaa Maddham Maddham Terii Gili Hasii\n",
      "Saathiyaa Saathiyaa Sunke Hamne Saarii Pii Lii Hasii \n",
      "( Hastii Rahe Tuu Hastii Rahe Hayaa Kii Laalii Khiltii Rahe\n",
      "Zulf Ke Niiche Gardan Pe Subah O Shaam Miltii Rahe )…(2)\n",
      "\n",
      "Saundhii Sii Hasii Terii Khiltii Rahe Miltii Rahe \n",
      "Piilii Dhuup Pahanke Tum Dekho Baag Mein Mat Jaana\n",
      "Bhawre Tum Ko Sab Chhede.Ge Phuulon Mein Mat Jaana\n",
      "Maddhyam Maddhyam Haas De Phir Se\n",
      "Sona Sona Phir Se Haas De\n",
      "Taaza Gire Patte Kii Tarah Sabze Laan Par Lete Huve\n",
      "Saat Rang Hain Bahaaroon Ke Ek Adaa Mein Lapete Huve\n",
      "Saawan Baadal Saare Tum Se \n",
      "Mausam Mausam Haste Rahana…(2)\n",
      "\n",
      "Saathiyaa Saathiyaa…Pii Lii Hasii\n",
      "Kabhii Niile Aasmaan Pe Chalo Ghuumne Chalein Hum \n",
      "Koii Abr Mil Gaya To Zamiin Pe Badas Lein Hum \n",
      "Terii Baalii Hil Gayi Hai\n",
      "Kabhii Shab Chamak Uthii Hai\n",
      "Kabhii Shaam Khil Gayi Hai\n",
      "Tere Baalon Kii Panaah Mein Ho Yeh Saari Raat Guzare \n",
      "Terii Kaalii Kaalii Aankhe Koii Ujalii Baat Utare \n",
      "Terii Ek Hasi Ke Badale Merii Yeh Zamiin Le Le \n",
      "Mera Aasmaan Le Le\n",
      "Saathiyaa Saathiyaa…Pii Lii Hasii\n",
      "Barf Girii Ho Vaadii Mein Un Mein Liptii Simtii Huii\n",
      "Barf Girii Ho Vaadii Mein Aur Hasi Teri Guunje\n",
      "Un Mein Lipti Simti Hui Vaat Kare Dhuaan Nikle \n",
      "Garam Garam Ujala Dhuaan\n",
      "Naram Naram Ujala Dhuaan\n"
     ]
    }
   ],
   "source": [
    "print(PyLyrics.getLyrics('Sonu Nigam','Saathiya')) #Print the lyrics directly"
   ]
  },
  {
   "cell_type": "code",
   "execution_count": 32,
   "metadata": {},
   "outputs": [],
   "source": [
    "url = \"http://lyrics.wikia.com/api.php?action=lyrics&artist={0}\".format(\"Sonu Nigam\")\n",
    "soup = BeautifulSoup(requests.get(url).text)\n",
    "#print(soup.find(\"ul\",{'class':'albums'}))\n",
    "\n",
    "for al in soup.find_all(\"ul\",{'class':'songs'}):\n",
    "    list1 = al.findAll(\"li\")"
   ]
  },
  {
   "cell_type": "code",
   "execution_count": 34,
   "metadata": {},
   "outputs": [
    {
     "name": "stdout",
     "output_type": "stream",
     "text": [
      "['Aaj Ki Raat', 'Abhi Mujh Mein Kahin', 'Ankhiyon Se Gal Kar Gayi', 'Bole Chudiyan', 'Chiggy Wiggy', 'Chori Kiya Re Jiya', 'Deewana Tera', 'Dekho Na Dekho Na', 'For Your Eyes Only', 'Ghum Shuda', 'Hans Mat Pagli', 'Kabhi Alvida Naa Kehna', 'Kal Ho Na Ho', 'Kal Ho Naa Ho', 'Love Is A Waste Of Time', 'Mahi Ve', 'Main Agar Kahoon', 'Main Hoon Na', 'Mere Haath Mein', 'O Sathi Mere', 'Pyar Ki Ek Kahani', 'Sau Dard - Jaan-E-Mann', 'Ye Dil Tere Bin Yaad 2001', 'You Are My Soniya']\n"
     ]
    }
   ],
   "source": [
    "songlist=[]\n",
    "for i in list1:\n",
    "    val = i.get_text()\n",
    "    if \":\" not in val:\n",
    "        songlist.append(val)\n",
    "print(songlist)"
   ]
  },
  {
   "cell_type": "code",
   "execution_count": null,
   "metadata": {},
   "outputs": [],
   "source": []
  }
 ],
 "metadata": {
  "kernelspec": {
   "display_name": "Python 3",
   "language": "python",
   "name": "python3"
  },
  "language_info": {
   "codemirror_mode": {
    "name": "ipython",
    "version": 3
   },
   "file_extension": ".py",
   "mimetype": "text/x-python",
   "name": "python",
   "nbconvert_exporter": "python",
   "pygments_lexer": "ipython3",
   "version": "3.7.3"
  }
 },
 "nbformat": 4,
 "nbformat_minor": 2
}
